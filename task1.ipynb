{
 "cells": [
  {
   "cell_type": "code",
   "execution_count": 1,
   "id": "efe78996",
   "metadata": {},
   "outputs": [],
   "source": [
    "import spacy\n",
    "from spacy.tokens import DocBin\n",
    "from spacy.util import minibatch\n",
    "import random\n",
    "from spacy import displacy\n"
   ]
  },
  {
   "cell_type": "code",
   "execution_count": 2,
   "id": "27764483",
   "metadata": {},
   "outputs": [],
   "source": [
    "def load_data(file_path):\n",
    "    doc_bin = DocBin().from_disk(file_path)\n",
    "    return list(doc_bin.get_docs(nlp.vocab))"
   ]
  },
  {
   "cell_type": "code",
   "execution_count": 3,
   "id": "90b7cb00",
   "metadata": {},
   "outputs": [],
   "source": [
    "def evaluate(nlp, docs):\n",
    "    examples = []\n",
    "    for doc in docs:\n",
    "        headss = [token.head.i for token in doc]\n",
    "        depss = [token.dep_ for token in doc]\n",
    "        dic = {\"heads\": headss, \"deps\": depss}\n",
    "        examples.append(spacy.training.Example.from_dict(doc, dic))\n",
    "    return nlp.evaluate(examples)"
   ]
  },
  {
   "cell_type": "code",
   "execution_count": 4,
   "id": "7bccf7ea",
   "metadata": {},
   "outputs": [],
   "source": [
    "nlp = spacy.blank('tr')"
   ]
  },
  {
   "cell_type": "code",
   "execution_count": 5,
   "id": "c023ab5a",
   "metadata": {},
   "outputs": [],
   "source": [
    "\n",
    "parser = nlp.add_pipe('parser')"
   ]
  },
  {
   "cell_type": "code",
   "execution_count": 6,
   "id": "fe3ffae1",
   "metadata": {},
   "outputs": [],
   "source": [
    "\n",
    "train_data = load_data('HW2_Data/Task1/tr_imst-ud-train.spacy')\n",
    "dev_data = load_data('HW2_Data/Task1/tr_imst-ud-dev.spacy')\n",
    "test_data = load_data('HW2_Data/Task1/tr_imst-ud-test.spacy')"
   ]
  },
  {
   "cell_type": "code",
   "execution_count": 7,
   "id": "5bf3401f",
   "metadata": {},
   "outputs": [],
   "source": [
    "for doc in train_data:\n",
    "    for token in doc:\n",
    "        parser.add_label(token.dep_)"
   ]
  },
  {
   "cell_type": "code",
   "execution_count": 8,
   "id": "f3aea5a3",
   "metadata": {},
   "outputs": [],
   "source": [
    "\n",
    "optimizer = nlp.initialize()"
   ]
  },
  {
   "cell_type": "code",
   "execution_count": 9,
   "id": "1a942df6",
   "metadata": {},
   "outputs": [
    {
     "name": "stdout",
     "output_type": "stream",
     "text": [
      "Losses at iteration 0: {'parser': 18269.60273465954}\n",
      "Scores on development set: {'token_acc': 1.0, 'token_p': 1.0, 'token_r': 1.0, 'token_f': 1.0, 'sents_p': 1.0, 'sents_r': 1.0, 'sents_f': 1.0, 'dep_uas': 0.5298606904906117, 'dep_las': 0.2996971532404603, 'dep_las_per_type': {'root': {'p': 1.0, 'r': 0.5354251012145749, 'f': 0.6974291364535267}, 'nmod:poss': {'p': 0.17135862913096694, 'r': 0.24054982817869416, 'f': 0.20014295925661185}, 'nsubj': {'p': 0.3, 'r': 0.1852409638554217, 'f': 0.22905027932960895}, 'conj': {'p': 0.48655913978494625, 'r': 0.2657856093979442, 'f': 0.34377967711301044}, 'obj': {'p': 0.1392355694227769, 'r': 0.4728476821192053, 'f': 0.21512503766194638}, 'amod': {'p': 0.11059479553903345, 'r': 0.21794871794871795, 'f': 0.1467324290998767}, 'csubj': {'p': 1.0, 'r': 0.1111111111111111, 'f': 0.19999999999999998}, 'cop': {'p': 0.6, 'r': 0.6382978723404256, 'f': 0.6185567010309279}, 'nmod': {'p': 0.0891089108910891, 'r': 0.09388971684053651, 'f': 0.09143686502177069}, 'advmod:emph': {'p': 0.5828220858895705, 'r': 0.572289156626506, 'f': 0.5775075987841944}, 'obl': {'p': 1.0, 'r': 0.05089408528198074, 'f': 0.09685863874345549}, 'compound': {'p': 0.5876288659793815, 'r': 0.15789473684210525, 'f': 0.24890829694323147}, 'det': {'p': 0.5204991087344029, 'r': 0.776595744680851, 'f': 0.623265741728922}, 'case': {'p': 0.7620578778135049, 'r': 0.684971098265896, 'f': 0.7214611872146119}, 'acl': {'p': 0.16129032258064516, 'r': 0.04201680672268908, 'f': 0.06666666666666668}, 'advmod': {'p': 0.28, 'r': 0.12280701754385964, 'f': 0.17073170731707316}, 'nummod': {'p': 0.037037037037037035, 'r': 0.009259259259259259, 'f': 0.014814814814814815}, 'compound:lvc': {'p': 0.9743589743589743, 'r': 0.42696629213483145, 'f': 0.59375}, 'cc': {'p': 0.3203125, 'r': 0.2546583850931677, 'f': 0.2837370242214533}, 'flat': {'p': 0.6363636363636364, 'r': 0.04294478527607362, 'f': 0.08045977011494254}, 'discourse': {'p': 1.0, 'r': 0.07142857142857142, 'f': 0.13333333333333333}, 'appos': {'p': 0.0, 'r': 0.0, 'f': 0.0}, 'aux:q': {'p': 0.7, 'r': 0.19444444444444445, 'f': 0.30434782608695654}, 'ccomp': {'p': 1.0, 'r': 0.058823529411764705, 'f': 0.1111111111111111}, 'mark': {'p': 1.0, 'r': 0.08333333333333333, 'f': 0.15384615384615385}, 'compound:redup': {'p': 0.3333333333333333, 'r': 0.07407407407407407, 'f': 0.12121212121212122}, 'dep': {'p': 0.0, 'r': 0.0, 'f': 0.0}, 'fixed': {'p': 0.0, 'r': 0.0, 'f': 0.0}, 'advcl': {'p': 0.0, 'r': 0.0, 'f': 0.0}}, 'speed': 13630.93252891905}\n"
     ]
    },
    {
     "ename": "KeyboardInterrupt",
     "evalue": "",
     "output_type": "error",
     "traceback": [
      "\u001b[1;31m---------------------------------------------------------------------------\u001b[0m",
      "\u001b[1;31mKeyboardInterrupt\u001b[0m                         Traceback (most recent call last)",
      "\u001b[1;32m~\\AppData\\Local\\Temp\\ipykernel_3728\\1895196022.py\u001b[0m in \u001b[0;36m<module>\u001b[1;34m\u001b[0m\n\u001b[0;32m     10\u001b[0m             \u001b[0mdic\u001b[0m \u001b[1;33m=\u001b[0m \u001b[1;33m{\u001b[0m\u001b[1;34m\"heads\"\u001b[0m\u001b[1;33m:\u001b[0m \u001b[0mheadss\u001b[0m\u001b[1;33m,\u001b[0m \u001b[1;34m\"deps\"\u001b[0m\u001b[1;33m:\u001b[0m \u001b[0mdepss\u001b[0m\u001b[1;33m}\u001b[0m\u001b[1;33m\u001b[0m\u001b[1;33m\u001b[0m\u001b[0m\n\u001b[0;32m     11\u001b[0m             \u001b[0mexample\u001b[0m \u001b[1;33m=\u001b[0m \u001b[0mspacy\u001b[0m\u001b[1;33m.\u001b[0m\u001b[0mtraining\u001b[0m\u001b[1;33m.\u001b[0m\u001b[0mExample\u001b[0m\u001b[1;33m.\u001b[0m\u001b[0mfrom_dict\u001b[0m\u001b[1;33m(\u001b[0m\u001b[0mdoc\u001b[0m\u001b[1;33m,\u001b[0m \u001b[0mdic\u001b[0m\u001b[1;33m)\u001b[0m\u001b[1;33m\u001b[0m\u001b[1;33m\u001b[0m\u001b[0m\n\u001b[1;32m---> 12\u001b[1;33m             \u001b[0mnlp\u001b[0m\u001b[1;33m.\u001b[0m\u001b[0mupdate\u001b[0m\u001b[1;33m(\u001b[0m\u001b[1;33m[\u001b[0m\u001b[0mexample\u001b[0m\u001b[1;33m]\u001b[0m\u001b[1;33m,\u001b[0m \u001b[0mdrop\u001b[0m\u001b[1;33m=\u001b[0m\u001b[1;36m0.5\u001b[0m\u001b[1;33m,\u001b[0m \u001b[0mlosses\u001b[0m\u001b[1;33m=\u001b[0m\u001b[0mlosses\u001b[0m\u001b[1;33m,\u001b[0m \u001b[0msgd\u001b[0m\u001b[1;33m=\u001b[0m\u001b[0moptimizer\u001b[0m\u001b[1;33m)\u001b[0m\u001b[1;33m\u001b[0m\u001b[1;33m\u001b[0m\u001b[0m\n\u001b[0m\u001b[0;32m     13\u001b[0m \u001b[1;33m\u001b[0m\u001b[0m\n\u001b[0;32m     14\u001b[0m     \u001b[0mprint\u001b[0m\u001b[1;33m(\u001b[0m\u001b[1;34mf\"Losses at iteration {i}: {losses}\"\u001b[0m\u001b[1;33m)\u001b[0m\u001b[1;33m\u001b[0m\u001b[1;33m\u001b[0m\u001b[0m\n",
      "\u001b[1;32m~\\anaconda3\\lib\\site-packages\\spacy\\language.py\u001b[0m in \u001b[0;36mupdate\u001b[1;34m(self, examples, _, drop, sgd, losses, component_cfg, exclude, annotates)\u001b[0m\n\u001b[0;32m   1199\u001b[0m                     \u001b[1;32mand\u001b[0m \u001b[0mproc\u001b[0m\u001b[1;33m.\u001b[0m\u001b[0mmodel\u001b[0m \u001b[1;32mnot\u001b[0m \u001b[1;32min\u001b[0m \u001b[1;33m(\u001b[0m\u001b[1;32mTrue\u001b[0m\u001b[1;33m,\u001b[0m \u001b[1;32mFalse\u001b[0m\u001b[1;33m,\u001b[0m \u001b[1;32mNone\u001b[0m\u001b[1;33m)\u001b[0m\u001b[1;33m\u001b[0m\u001b[1;33m\u001b[0m\u001b[0m\n\u001b[0;32m   1200\u001b[0m                 ):\n\u001b[1;32m-> 1201\u001b[1;33m                     \u001b[0mproc\u001b[0m\u001b[1;33m.\u001b[0m\u001b[0mfinish_update\u001b[0m\u001b[1;33m(\u001b[0m\u001b[0msgd\u001b[0m\u001b[1;33m)\u001b[0m\u001b[1;33m\u001b[0m\u001b[1;33m\u001b[0m\u001b[0m\n\u001b[0m\u001b[0;32m   1202\u001b[0m             \u001b[1;32mif\u001b[0m \u001b[0mname\u001b[0m \u001b[1;32min\u001b[0m \u001b[0mannotates\u001b[0m\u001b[1;33m:\u001b[0m\u001b[1;33m\u001b[0m\u001b[1;33m\u001b[0m\u001b[0m\n\u001b[0;32m   1203\u001b[0m                 for doc, eg in zip(\n",
      "\u001b[1;32m~\\anaconda3\\lib\\site-packages\\spacy\\pipeline\\trainable_pipe.pyx\u001b[0m in \u001b[0;36mspacy.pipeline.trainable_pipe.TrainablePipe.finish_update\u001b[1;34m()\u001b[0m\n",
      "\u001b[1;32m~\\anaconda3\\lib\\site-packages\\thinc\\model.py\u001b[0m in \u001b[0;36mfinish_update\u001b[1;34m(self, optimizer)\u001b[0m\n\u001b[0;32m    344\u001b[0m             \u001b[1;32mfor\u001b[0m \u001b[0mname\u001b[0m \u001b[1;32min\u001b[0m \u001b[0mnode\u001b[0m\u001b[1;33m.\u001b[0m\u001b[0mparam_names\u001b[0m\u001b[1;33m:\u001b[0m\u001b[1;33m\u001b[0m\u001b[1;33m\u001b[0m\u001b[0m\n\u001b[0;32m    345\u001b[0m                 \u001b[1;32mif\u001b[0m \u001b[0mnode\u001b[0m\u001b[1;33m.\u001b[0m\u001b[0mhas_grad\u001b[0m\u001b[1;33m(\u001b[0m\u001b[0mname\u001b[0m\u001b[1;33m)\u001b[0m\u001b[1;33m:\u001b[0m\u001b[1;33m\u001b[0m\u001b[1;33m\u001b[0m\u001b[0m\n\u001b[1;32m--> 346\u001b[1;33m                     param, grad = optimizer(\n\u001b[0m\u001b[0;32m    347\u001b[0m                         \u001b[1;33m(\u001b[0m\u001b[0mnode\u001b[0m\u001b[1;33m.\u001b[0m\u001b[0mid\u001b[0m\u001b[1;33m,\u001b[0m \u001b[0mname\u001b[0m\u001b[1;33m)\u001b[0m\u001b[1;33m,\u001b[0m \u001b[0mnode\u001b[0m\u001b[1;33m.\u001b[0m\u001b[0mget_param\u001b[0m\u001b[1;33m(\u001b[0m\u001b[0mname\u001b[0m\u001b[1;33m)\u001b[0m\u001b[1;33m,\u001b[0m \u001b[0mnode\u001b[0m\u001b[1;33m.\u001b[0m\u001b[0mget_grad\u001b[0m\u001b[1;33m(\u001b[0m\u001b[0mname\u001b[0m\u001b[1;33m)\u001b[0m\u001b[1;33m\u001b[0m\u001b[1;33m\u001b[0m\u001b[0m\n\u001b[0;32m    348\u001b[0m                     )\n",
      "\u001b[1;32m~\\anaconda3\\lib\\site-packages\\thinc\\optimizers.py\u001b[0m in \u001b[0;36m__call__\u001b[1;34m(self, key, weights, gradient, lr_scale)\u001b[0m\n\u001b[0;32m    239\u001b[0m         \u001b[1;32melse\u001b[0m\u001b[1;33m:\u001b[0m\u001b[1;33m\u001b[0m\u001b[1;33m\u001b[0m\u001b[0m\n\u001b[0;32m    240\u001b[0m             \u001b[0mweights\u001b[0m \u001b[1;33m-=\u001b[0m \u001b[0mlr_scale\u001b[0m \u001b[1;33m*\u001b[0m \u001b[0mself\u001b[0m\u001b[1;33m.\u001b[0m\u001b[0mlearn_rate\u001b[0m \u001b[1;33m*\u001b[0m \u001b[0mgradient\u001b[0m\u001b[1;33m\u001b[0m\u001b[1;33m\u001b[0m\u001b[0m\n\u001b[1;32m--> 241\u001b[1;33m         \u001b[0mgradient\u001b[0m \u001b[1;33m*=\u001b[0m \u001b[1;36m0\u001b[0m\u001b[1;33m\u001b[0m\u001b[1;33m\u001b[0m\u001b[0m\n\u001b[0m\u001b[0;32m    242\u001b[0m         \u001b[1;32mif\u001b[0m \u001b[0mself\u001b[0m\u001b[1;33m.\u001b[0m\u001b[0mL2\u001b[0m \u001b[1;33m!=\u001b[0m \u001b[1;36m0\u001b[0m \u001b[1;32mand\u001b[0m \u001b[0mself\u001b[0m\u001b[1;33m.\u001b[0m\u001b[0mL2_is_weight_decay\u001b[0m\u001b[1;33m:\u001b[0m\u001b[1;33m\u001b[0m\u001b[1;33m\u001b[0m\u001b[0m\n\u001b[0;32m    243\u001b[0m             \u001b[0mweights\u001b[0m \u001b[1;33m-=\u001b[0m \u001b[0mlr_scale\u001b[0m \u001b[1;33m*\u001b[0m \u001b[0mself\u001b[0m\u001b[1;33m.\u001b[0m\u001b[0mlearn_rate\u001b[0m \u001b[1;33m*\u001b[0m \u001b[0mself\u001b[0m\u001b[1;33m.\u001b[0m\u001b[0mL2\u001b[0m \u001b[1;33m*\u001b[0m \u001b[0mweights\u001b[0m\u001b[1;33m\u001b[0m\u001b[1;33m\u001b[0m\u001b[0m\n",
      "\u001b[1;31mKeyboardInterrupt\u001b[0m: "
     ]
    }
   ],
   "source": [
    "for i in range(5): \n",
    "    random.shuffle(train_data)\n",
    "    batches = minibatch(train_data, size=8)  \n",
    "    losses = {}\n",
    "    \n",
    "    for batch in batches:\n",
    "        for doc in batch:\n",
    "            headss = [token.head.i for token in doc]\n",
    "            depss = [token.dep_ for token in doc]\n",
    "            dic = {\"heads\": headss, \"deps\": depss}\n",
    "            example = spacy.training.Example.from_dict(doc, dic)\n",
    "            nlp.update([example], drop=0.5, losses=losses, sgd=optimizer)\n",
    "            \n",
    "    print(f\"Losses at iteration {i}: {losses}\")\n",
    "    \n",
    "    \n",
    "    dev_scores = evaluate(nlp, dev_data)\n",
    "    print(f\"Scores on development set: {dev_scores}\")"
   ]
  },
  {
   "cell_type": "code",
   "execution_count": null,
   "id": "311eb304",
   "metadata": {},
   "outputs": [],
   "source": [
    "\n",
    "test_scores = evaluate(nlp, test_data)\n",
    "print(f\"Scores on test set: {test_scores}\")\n",
    "\n",
    "\n",
    "las = test_scores['dep_las']\n",
    "uas = test_scores['dep_uas']\n",
    "print(f\"Labeled Attachment Score (LAS) on test set: {las:.2f}\")\n",
    "print(f\"Unlabeled Attachment Score (UAS) on test set: {uas:.2f}\")"
   ]
  },
  {
   "cell_type": "code",
   "execution_count": null,
   "id": "25d49212",
   "metadata": {},
   "outputs": [],
   "source": [
    "sentences = [\"Güneş doğudan yükselir ve batıda batar.\",\n",
    "    \"Akıllı telefonlar, günümüzün vazgeçilmez teknolojik aletleridir.\",\n",
    "    \"Yarınki toplantıda, müdürün asistanı tarafından sunulan, şirketin kazanç raporunu gözden geçireceğiz.\",\n",
    "    \"Çocuğun parkta, köpeğiyle oynarken gördüğümüz adam, eski bir arkadaşım çıktı.\"]"
   ]
  },
  {
   "cell_type": "code",
   "execution_count": null,
   "id": "9057b1d0",
   "metadata": {
    "scrolled": false
   },
   "outputs": [],
   "source": [
    "\n",
    "for sentence in sentences:\n",
    "    doc = nlp(sentence)\n",
    "    displacy.render(doc, style=\"dep\", jupyter=True, options={'distance': 90})"
   ]
  },
  {
   "cell_type": "code",
   "execution_count": null,
   "id": "2298d222",
   "metadata": {},
   "outputs": [],
   "source": []
  }
 ],
 "metadata": {
  "kernelspec": {
   "display_name": "Python 3 (ipykernel)",
   "language": "python",
   "name": "python3"
  },
  "language_info": {
   "codemirror_mode": {
    "name": "ipython",
    "version": 3
   },
   "file_extension": ".py",
   "mimetype": "text/x-python",
   "name": "python",
   "nbconvert_exporter": "python",
   "pygments_lexer": "ipython3",
   "version": "3.9.13"
  }
 },
 "nbformat": 4,
 "nbformat_minor": 5
}
